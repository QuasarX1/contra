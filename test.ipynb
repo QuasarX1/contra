{
 "cells": [
  {
   "cell_type": "code",
   "execution_count": 1,
   "metadata": {},
   "outputs": [],
   "source": [
    "output_file_location = \"/users/aricrowe/localscratch/output-test.hdf5\""
   ]
  },
  {
   "cell_type": "code",
   "execution_count": 2,
   "metadata": {},
   "outputs": [
    {
     "name": "stderr",
     "output_type": "stream",
     "text": [
      "/users/aricrowe/.local/share/hatch/env/virtual/contra/eXXHy1rr/contra/lib/python3.10/site-packages/numba/cpython/hashing.py:482: UserWarning: FNV hashing is not implemented in Numba. See PEP 456 https://www.python.org/dev/peps/pep-0456/ for rationale over not using FNV. Numba will continue to work, but hashes for built in types will be computed using siphash24. This will permit e.g. dictionaries to continue to behave as expected, however anything relying on the value of the hash opposed to hash as a derived property is likely to not work as expected.\n",
      "  warnings.warn(msg)\n"
     ]
    }
   ],
   "source": [
    "from contra import ParticleType, ArrayReorder\n",
    "from contra.io import SnapshotEAGLE, LineOfSightFileEAGLE\n",
    "import h5py as h5\n",
    "import numpy as np\n",
    "from typing import Dict, Tuple\n",
    "import os\n"
   ]
  },
  {
   "cell_type": "code",
   "execution_count": 3,
   "metadata": {},
   "outputs": [],
   "source": [
    "snapshots: Dict[int, SnapshotEAGLE] = {}\n",
    "snapshots[396] = SnapshotEAGLE(\"/mnt/archive/projects/EAGLE/L0012N0188/REFERENCE/data/snipshot_396_z000p012/snip_396_z000p012.0.hdf5\")\n",
    "snapshots[397] = SnapshotEAGLE(\"/mnt/archive/projects/EAGLE/L0012N0188/REFERENCE/data/snipshot_397_z000p008/snip_397_z000p008.0.hdf5\")\n",
    "\n",
    "snap_nums = list(snapshots.keys())\n",
    "snap_nums.sort()\n",
    "\n",
    "snap_redshifts = { n : snapshots[n].z for n in snap_nums}\n",
    "snap_expansion_factors = { n : snapshots[n].a for n in snap_nums}\n",
    "\n",
    "def find_neighbouring_snapshots(z: float) -> Tuple[int, int]:\n",
    "    if z > snapshots[snap_nums[0]].z or z < snapshots[snap_nums[-1]].z:\n",
    "        raise ValueError(f\"Redshift {z} outside of redshift range of avalible data.\")\n",
    "    lower_redshift_snap_num = snap_nums[0]\n",
    "    while snapshots[lower_redshift_snap_num].z > z:\n",
    "        lower_redshift_snap_num += 1\n",
    "    return (lower_redshift_snap_num - 1, lower_redshift_snap_num)\n"
   ]
  },
  {
   "cell_type": "code",
   "execution_count": 4,
   "metadata": {},
   "outputs": [],
   "source": [
    "#raw_ids = { n : snapshots[n].get_IDs(ParticleType.gas) for n in snap_nums}\n",
    "#matching_order = { snap_nums[i] : ArrayReorder.create(raw_ids[snap_nums[i]], raw_ids[snap_nums[i + 1]]) for i in range(len(snap_nums) - 1) }\n"
   ]
  },
  {
   "cell_type": "code",
   "execution_count": 5,
   "metadata": {},
   "outputs": [],
   "source": [
    "#raw_positions    = { n : snapshots[n].get_positions(ParticleType.gas).to(\"Mpc\")       for n in snap_nums }\n",
    "#raw_positions_x  = { n : raw_positions[n][:, 0]                                       for n in snap_nums }\n",
    "#raw_positions_y  = { n : raw_positions[n][:, 1]                                       for n in snap_nums }\n",
    "#raw_positions_z  = { n : raw_positions[n][:, 2]                                       for n in snap_nums }\n",
    "#raw_masses       = { n : snapshots[n].get_masses(ParticleType.gas).to(\"Msun\")         for n in snap_nums }\n",
    "#raw_metalicities = { n : snapshots[n].get_metalicities(ParticleType.gas)              for n in snap_nums }\n",
    "#raw_temperatures = { n : snapshots[n].get_temperatures(ParticleType.gas).to(\"K\")      for n in snap_nums }\n",
    "#raw_densities    = { n : snapshots[n].get_densities(ParticleType.gas).to(\"g/(cm**3)\") for n in snap_nums }\n"
   ]
  },
  {
   "cell_type": "code",
   "execution_count": 6,
   "metadata": {},
   "outputs": [],
   "source": [
    "#matched_positions_x  = { n : matching_order[n](raw_positions_x [n]) for n in snap_nums[:-1] }\n",
    "#matched_positions_y  = { n : matching_order[n](raw_positions_y [n]) for n in snap_nums[:-1] }\n",
    "#matched_positions_z  = { n : matching_order[n](raw_positions_z [n]) for n in snap_nums[:-1] }\n",
    "#matched_masses       = { n : matching_order[n](raw_masses      [n]) for n in snap_nums[:-1] }\n",
    "#matched_metalicities = { n : matching_order[n](raw_metalicities[n]) for n in snap_nums[:-1] }\n",
    "#matched_temperatures = { n : matching_order[n](raw_temperatures[n]) for n in snap_nums[:-1] }\n",
    "#matched_densities    = { n : matching_order[n](raw_densities   [n]) for n in snap_nums[:-1] }\n"
   ]
  },
  {
   "cell_type": "code",
   "execution_count": 7,
   "metadata": {},
   "outputs": [],
   "source": [
    "los_files = [\"/mnt/archive/projects/EAGLE/L0012N0188/REFERENCE/data/los/part_los_z0.010.hdf5\"]\n"
   ]
  },
  {
   "cell_type": "code",
   "execution_count": 8,
   "metadata": {},
   "outputs": [
    {
     "name": "stdout",
     "output_type": "stream",
     "text": [
      "part_los_z0.010.hdf5\n",
      "LOS7 duplicates: 17 unset: 0 (written to file)\n",
      "LOS8 "
     ]
    },
    {
     "ename": "KeyboardInterrupt",
     "evalue": "",
     "output_type": "error",
     "traceback": [
      "\u001b[0;31m---------------------------------------------------------------------------\u001b[0m",
      "\u001b[0;31mKeyboardInterrupt\u001b[0m                         Traceback (most recent call last)",
      "Cell \u001b[0;32mIn[8], line 96\u001b[0m\n\u001b[1;32m     94\u001b[0m selected_ids \u001b[38;5;241m=\u001b[39m np\u001b[38;5;241m.\u001b[39mfull(\u001b[38;5;28mlen\u001b[39m(los), \u001b[38;5;241m-\u001b[39m\u001b[38;5;241m1\u001b[39m, dtype \u001b[38;5;241m=\u001b[39m \u001b[38;5;28mint\u001b[39m)\n\u001b[1;32m     95\u001b[0m \u001b[38;5;28;01mfor\u001b[39;00m los_part_index \u001b[38;5;129;01min\u001b[39;00m \u001b[38;5;28mrange\u001b[39m(\u001b[38;5;28mlen\u001b[39m(los)):\n\u001b[0;32m---> 96\u001b[0m     vector_offsets \u001b[38;5;241m=\u001b[39m \u001b[43m(\u001b[49m\u001b[43mnp\u001b[49m\u001b[38;5;241;43m.\u001b[39;49m\u001b[43mabs\u001b[49m\u001b[43m(\u001b[49m\u001b[43minterpolated_vectors\u001b[49m\u001b[43m \u001b[49m\u001b[38;5;241;43m-\u001b[39;49m\u001b[43m \u001b[49m\u001b[43mlos_quantity_vectors\u001b[49m\u001b[43m[\u001b[49m\u001b[43mlos_part_index\u001b[49m\u001b[43m]\u001b[49m\u001b[43m)\u001b[49m\u001b[43m \u001b[49m\u001b[38;5;241;43m*\u001b[39;49m\u001b[43m \u001b[49m\u001b[43melement_weightings\u001b[49m\u001b[43m)\u001b[49m\u001b[38;5;241;43m.\u001b[39;49m\u001b[43msum\u001b[49m\u001b[43m(\u001b[49m\u001b[43maxis\u001b[49m\u001b[43m \u001b[49m\u001b[38;5;241;43m=\u001b[39;49m\u001b[43m \u001b[49m\u001b[38;5;241;43m1\u001b[39;49m\u001b[43m)\u001b[49m\n\u001b[1;32m     97\u001b[0m     matched_index \u001b[38;5;241m=\u001b[39m vector_offsets\u001b[38;5;241m.\u001b[39margmin()\n\u001b[1;32m     98\u001b[0m     selected_ids[los_part_index] \u001b[38;5;241m=\u001b[39m raw_ids[snap_num_final][matched_index]\n",
      "File \u001b[0;32m~/.local/share/hatch/env/virtual/contra/eXXHy1rr/contra/lib/python3.10/site-packages/numpy/core/_methods.py:47\u001b[0m, in \u001b[0;36m_sum\u001b[0;34m(a, axis, dtype, out, keepdims, initial, where)\u001b[0m\n\u001b[1;32m     43\u001b[0m \u001b[38;5;28;01mdef\u001b[39;00m \u001b[38;5;21m_amin\u001b[39m(a, axis\u001b[38;5;241m=\u001b[39m\u001b[38;5;28;01mNone\u001b[39;00m, out\u001b[38;5;241m=\u001b[39m\u001b[38;5;28;01mNone\u001b[39;00m, keepdims\u001b[38;5;241m=\u001b[39m\u001b[38;5;28;01mFalse\u001b[39;00m,\n\u001b[1;32m     44\u001b[0m           initial\u001b[38;5;241m=\u001b[39m_NoValue, where\u001b[38;5;241m=\u001b[39m\u001b[38;5;28;01mTrue\u001b[39;00m):\n\u001b[1;32m     45\u001b[0m     \u001b[38;5;28;01mreturn\u001b[39;00m umr_minimum(a, axis, \u001b[38;5;28;01mNone\u001b[39;00m, out, keepdims, initial, where)\n\u001b[0;32m---> 47\u001b[0m \u001b[38;5;28;01mdef\u001b[39;00m \u001b[38;5;21m_sum\u001b[39m(a, axis\u001b[38;5;241m=\u001b[39m\u001b[38;5;28;01mNone\u001b[39;00m, dtype\u001b[38;5;241m=\u001b[39m\u001b[38;5;28;01mNone\u001b[39;00m, out\u001b[38;5;241m=\u001b[39m\u001b[38;5;28;01mNone\u001b[39;00m, keepdims\u001b[38;5;241m=\u001b[39m\u001b[38;5;28;01mFalse\u001b[39;00m,\n\u001b[1;32m     48\u001b[0m          initial\u001b[38;5;241m=\u001b[39m_NoValue, where\u001b[38;5;241m=\u001b[39m\u001b[38;5;28;01mTrue\u001b[39;00m):\n\u001b[1;32m     49\u001b[0m     \u001b[38;5;28;01mreturn\u001b[39;00m umr_sum(a, axis, dtype, out, keepdims, initial, where)\n\u001b[1;32m     51\u001b[0m \u001b[38;5;28;01mdef\u001b[39;00m \u001b[38;5;21m_prod\u001b[39m(a, axis\u001b[38;5;241m=\u001b[39m\u001b[38;5;28;01mNone\u001b[39;00m, dtype\u001b[38;5;241m=\u001b[39m\u001b[38;5;28;01mNone\u001b[39;00m, out\u001b[38;5;241m=\u001b[39m\u001b[38;5;28;01mNone\u001b[39;00m, keepdims\u001b[38;5;241m=\u001b[39m\u001b[38;5;28;01mFalse\u001b[39;00m,\n\u001b[1;32m     52\u001b[0m           initial\u001b[38;5;241m=\u001b[39m_NoValue, where\u001b[38;5;241m=\u001b[39m\u001b[38;5;28;01mTrue\u001b[39;00m):\n",
      "\u001b[0;31mKeyboardInterrupt\u001b[0m: "
     ]
    }
   ],
   "source": [
    "element_weightings = np.array([\n",
    "    1.0, # X-position\n",
    "    1.0, # Y-position\n",
    "    1.0, # Z-position\n",
    "    1.0, # Mass\n",
    "    1.0, # Metalicity\n",
    "    1.0, # Temperature\n",
    "    1.0, # Density\n",
    "])\n",
    "\n",
    "# Create output file\n",
    "if not os.path.exists(output_file_location):\n",
    "    h5.File(output_file_location, \"w\").close()\n",
    "    complete_files = []\n",
    "else:\n",
    "    with h5.File(output_file_location, \"r\") as file:\n",
    "        complete_files = list(file)\n",
    "\n",
    "for f in los_files:\n",
    "    sightline_file = LineOfSightFileEAGLE(f)\n",
    "\n",
    "    output_file_group_name = f.rsplit(os.path.sep, maxsplit = 1)[-1]\n",
    "\n",
    "    completed_sightlines = 0\n",
    "    if output_file_group_name in complete_files:\n",
    "        with h5.File(output_file_location, \"r\") as file:\n",
    "            completed_sightlines = len(list(file[output_file_group_name]))\n",
    "        if completed_sightlines == len(sightline_file):\n",
    "            continue\n",
    "    else:\n",
    "        with h5.File(output_file_location, \"a\") as file:\n",
    "            file.create_group(output_file_group_name)\n",
    "\n",
    "    print(output_file_group_name)\n",
    "\n",
    "    snap_num_initial, snap_num_final = find_neighbouring_snapshots(sightline_file.z)\n",
    "\n",
    "    selected_snap_nums = [snap_num_initial, snap_num_final]\n",
    "\n",
    "    # Snipshot data\n",
    "    raw_ids = { n : snapshots[n].get_IDs(ParticleType.gas) for n in selected_snap_nums}\n",
    "    matching_order = { selected_snap_nums[i] : ArrayReorder.create(raw_ids[selected_snap_nums[i]], raw_ids[selected_snap_nums[i + 1]]) for i in range(len(selected_snap_nums) - 1) }\n",
    "\n",
    "    raw_positions    = { n : snapshots[n].get_positions(ParticleType.gas).to(\"Mpc\")       for n in selected_snap_nums }\n",
    "    raw_positions_x  = { n : raw_positions[n][:, 0]                                       for n in selected_snap_nums }\n",
    "    raw_positions_y  = { n : raw_positions[n][:, 1]                                       for n in selected_snap_nums }\n",
    "    raw_positions_z  = { n : raw_positions[n][:, 2]                                       for n in selected_snap_nums }\n",
    "    raw_masses       = { n : snapshots[n].get_masses(ParticleType.gas).to(\"Msun\")         for n in selected_snap_nums }\n",
    "    raw_metalicities = { n : snapshots[n].get_metalicities(ParticleType.gas)              for n in selected_snap_nums }\n",
    "    raw_temperatures = { n : snapshots[n].get_temperatures(ParticleType.gas).to(\"K\")      for n in selected_snap_nums }\n",
    "    raw_densities    = { n : snapshots[n].get_densities(ParticleType.gas).to(\"g/(cm**3)\") for n in selected_snap_nums }\n",
    "\n",
    "    matched_positions_x  = { n : matching_order[n](raw_positions_x [n]) for n in selected_snap_nums[:-1] }\n",
    "    matched_positions_y  = { n : matching_order[n](raw_positions_y [n]) for n in selected_snap_nums[:-1] }\n",
    "    matched_positions_z  = { n : matching_order[n](raw_positions_z [n]) for n in selected_snap_nums[:-1] }\n",
    "    matched_masses       = { n : matching_order[n](raw_masses      [n]) for n in selected_snap_nums[:-1] }\n",
    "    matched_metalicities = { n : matching_order[n](raw_metalicities[n]) for n in selected_snap_nums[:-1] }\n",
    "    matched_temperatures = { n : matching_order[n](raw_temperatures[n]) for n in selected_snap_nums[:-1] }\n",
    "    matched_densities    = { n : matching_order[n](raw_densities   [n]) for n in selected_snap_nums[:-1] }\n",
    "    # End Snipshot data\n",
    "\n",
    "    interp_fraction = (sightline_file.a - snap_expansion_factors[snap_num_initial]) / (snap_expansion_factors[snap_num_final] - snap_expansion_factors[snap_num_initial])\n",
    "    #TODO: apply box wrapping?\n",
    "    interpolated_positions_x  = matched_positions_x [snap_num_initial] * (1 - interp_fraction) + (raw_positions_x [snap_num_final] * interp_fraction)\n",
    "    interpolated_positions_y  = matched_positions_y [snap_num_initial] * (1 - interp_fraction) + (raw_positions_y [snap_num_final] * interp_fraction)\n",
    "    interpolated_positions_z  = matched_positions_z [snap_num_initial] * (1 - interp_fraction) + (raw_positions_z [snap_num_final] * interp_fraction)\n",
    "    interpolated_masses       = matched_masses      [snap_num_initial] * (1 - interp_fraction) + (raw_masses      [snap_num_final] * interp_fraction)\n",
    "    interpolated_metalicities = matched_metalicities[snap_num_initial] * (1 - interp_fraction) + (raw_metalicities[snap_num_final] * interp_fraction)\n",
    "    interpolated_temperatures = matched_temperatures[snap_num_initial] * (1 - interp_fraction) + (raw_temperatures[snap_num_final] * interp_fraction)\n",
    "    interpolated_densities    = matched_densities   [snap_num_initial] * (1 - interp_fraction) + (raw_densities   [snap_num_final] * interp_fraction)\n",
    "\n",
    "    interpolated_vectors = np.array([interpolated_positions_x,\n",
    "                                     interpolated_positions_y,\n",
    "                                     interpolated_positions_z,\n",
    "                                     interpolated_masses,\n",
    "                                     interpolated_metalicities,\n",
    "                                     interpolated_temperatures,\n",
    "                                     interpolated_densities]).T\n",
    "\n",
    "    for los_index in range(completed_sightlines, len(sightline_file)):\n",
    "        print(f\"LOS{los_index}\", end = \" \")\n",
    "\n",
    "        los = sightline_file.get_sightline(los_index)\n",
    "            \n",
    "        los_quantity_vectors = np.array([los.positions_comoving.to(\"Mpc\")[:, 0],\n",
    "                                         los.positions_comoving.to(\"Mpc\")[:, 1],\n",
    "                                         los.positions_comoving.to(\"Mpc\")[:, 2],\n",
    "                                         los.masses.to(\"Msun\"),\n",
    "                                         los.metallicities,\n",
    "                                         los.temperatures.to(\"K\"),\n",
    "                                         los.densities_comoving.to(\"g/(cm**3)\")]).T\n",
    "        \n",
    "        # Find matches\n",
    "        selected_ids = np.full(len(los), -1, dtype = int)\n",
    "        for los_part_index in range(len(los)):\n",
    "            vector_offsets = (np.abs(interpolated_vectors - los_quantity_vectors[los_part_index]) * element_weightings).sum(axis = 1)\n",
    "            matched_index = vector_offsets.argmin()\n",
    "            selected_ids[los_part_index] = raw_ids[snap_num_final][matched_index]\n",
    "        print(\"duplicates:\", len(los) - np.unique(selected_ids).shape[0], \"unset:\", (selected_ids == -1).sum(), end = \" \")\n",
    "        with h5.File(output_file_location, \"a\") as file:\n",
    "            file[output_file_group_name].create_dataset(f\"LOS{los_index}\", data = selected_ids)\n",
    "        print(\"(written to file)\")\n",
    "    print()\n"
   ]
  }
 ],
 "metadata": {
  "kernelspec": {
   "display_name": "Python 3",
   "language": "python",
   "name": "python3"
  },
  "language_info": {
   "codemirror_mode": {
    "name": "ipython",
    "version": 3
   },
   "file_extension": ".py",
   "mimetype": "text/x-python",
   "name": "python",
   "nbconvert_exporter": "python",
   "pygments_lexer": "ipython3",
   "version": "3.10.13"
  }
 },
 "nbformat": 4,
 "nbformat_minor": 2
}
